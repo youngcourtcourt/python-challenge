{
 "cells": [
  {
   "cell_type": "code",
   "execution_count": 1,
   "metadata": {},
   "outputs": [],
   "source": [
    "import os\n",
    "import csv"
   ]
  },
  {
   "cell_type": "code",
   "execution_count": 342,
   "metadata": {},
   "outputs": [
    {
     "name": "stdout",
     "output_type": "stream",
     "text": [
      "Feb-2012\n"
     ]
    }
   ],
   "source": [
    "csvPath=os.path.join('Resources', 'budget_data.csv')\n",
    "\n",
    "#initialize variables\n",
    "months=0\n",
    "totalProfit=0\n",
    "thisMonth=0\n",
    "prevMonth=0\n",
    "difference=0\n",
    "avgChangeList=[]\n",
    "monthsList=[]\n",
    "\n",
    "#open csv file\n",
    "\n",
    "with open(csvPath) as csvFile:\n",
    "    csvReader=csv.reader(csvFile, delimiter=',')\n",
    "    csvHeader=next(csvReader, None)\n",
    "\n",
    "#iterate through lines in csv file\n",
    "\n",
    "    for lines in csvReader:\n",
    "        monthsList.append(lines[0])\n",
    "#count momnths\n",
    "        months=months+1\n",
    "        totalProfit=int(lines[1])+totalProfit\n",
    "        thisMonth=int(lines[1])\n",
    "#Because we want to subtract one months profits from another, if there is no previous month to subtract \n",
    "#i.e. prevMonth=0, then we skip the math of subracting one month's profits from another\n",
    "        \n",
    "        if prevMonth!=0:\n",
    "            difference=thisMonth-prevMonth\n",
    "            avgChangeList.append(difference)\n",
    "#Here we store the current profit in a variable for use in the next iteration\n",
    "\n",
    "        prevMonth=int(lines[1])\n",
    "    \n",
    "#Because we have stored our differences in a list, we can now perform max and min operations\n",
    "\n",
    "    greatestIncrease=max(avgChangeList)\n",
    "    greatestDecrease=min(avgChangeList)   \n",
    "    \n",
    "    \n",
    "print(monthsList[avgChangeList.index(greatestIncrease)+1])\n",
    "    print(greatestIncrease)\n",
    "    print(greatestDecrease)\n",
    "    print(f\"Average Change: ${round(sum(avgChangeList)/len(avgChangeList), 2)}\")    \n",
    "    print(f\"Total Months: {months}\")\n",
    "    print(f\"Total: ${totalProfit}\")"
   ]
  },
  {
   "cell_type": "code",
   "execution_count": 346,
   "metadata": {},
   "outputs": [
    {
     "ename": "TypeError",
     "evalue": "unsupported operand type(s) for -: 'str' and 'int'",
     "output_type": "error",
     "traceback": [
      "\u001b[0;31m---------------------------------------------------------------------------\u001b[0m",
      "\u001b[0;31mTypeError\u001b[0m                                 Traceback (most recent call last)",
      "\u001b[0;32m<ipython-input-346-736394b13ac2>\u001b[0m in \u001b[0;36m<module>\u001b[0;34m\u001b[0m\n\u001b[1;32m     32\u001b[0m \u001b[0;31m#i.e. prevMonth=0, then we skip the math of subracting one month's profits from another\u001b[0m\u001b[0;34m\u001b[0m\u001b[0;34m\u001b[0m\u001b[0;34m\u001b[0m\u001b[0m\n\u001b[1;32m     33\u001b[0m \u001b[0;34m\u001b[0m\u001b[0m\n\u001b[0;32m---> 34\u001b[0;31m         \u001b[0mdifference\u001b[0m\u001b[0;34m=\u001b[0m\u001b[0mlines\u001b[0m\u001b[0;34m[\u001b[0m\u001b[0;36m1\u001b[0m\u001b[0;34m]\u001b[0m\u001b[0;34m-\u001b[0m\u001b[0mint\u001b[0m\u001b[0;34m(\u001b[0m\u001b[0mprevPL\u001b[0m\u001b[0;34m)\u001b[0m\u001b[0;34m\u001b[0m\u001b[0;34m\u001b[0m\u001b[0m\n\u001b[0m\u001b[1;32m     35\u001b[0m         \u001b[0mdifferenceTotal\u001b[0m\u001b[0;34m=\u001b[0m\u001b[0mdifference\u001b[0m\u001b[0;34m+\u001b[0m\u001b[0mdifferenceTotal\u001b[0m\u001b[0;34m\u001b[0m\u001b[0;34m\u001b[0m\u001b[0m\n\u001b[1;32m     36\u001b[0m \u001b[0;34m\u001b[0m\u001b[0m\n",
      "\u001b[0;31mTypeError\u001b[0m: unsupported operand type(s) for -: 'str' and 'int'"
     ]
    }
   ],
   "source": [
    "csvPath=os.path.join('Resources', 'budget_data.csv')\n",
    "\n",
    "#initialize variable\n",
    "\n",
    "#open csv file\n",
    "\n",
    "with open(csvPath) as csvFile:\n",
    "    csvReader=csv.reader(csvFile, delimiter=',')\n",
    "    csvHeader=next(csvReader, None)\n",
    "    lines=next(csvReader)\n",
    "    months=1\n",
    "    totalProfit=lines[1]\n",
    "    thisMonth=0\n",
    "    prevPL=lines[1]\n",
    "    maxDifference=0\n",
    "    minDifference=0\n",
    "    maxMonth=lines[0]\n",
    "    minMonth=lines[0]\n",
    "    differenceTotal=0\n",
    "    avgChangeList=[]\n",
    "    monthsList=[]\n",
    "    \n",
    "\n",
    "#iterate through lines in csv file\n",
    "\n",
    "    for lines in csvReader:\n",
    "#count momnths\n",
    "        months=months+1\n",
    "        totalProfit=int(lines[1])+int(totalProfit)\n",
    "        \n",
    "#Because we want to subtract one months profits from another, if there is no previous month to subtract \n",
    "#i.e. prevMonth=0, then we skip the math of subracting one month's profits from another\n",
    "        \n",
    "        difference=lines[1]-int(prevPL)\n",
    "        differenceTotal=difference+differenceTotal\n",
    "        \n",
    "        if difference>maxDifference:\n",
    "            maxDifference=difference\n",
    "            maxMonth=lines[0]\n",
    "            \n",
    "        if difference<minDifference:\n",
    "            minDifference=difference\n",
    "            minMonth=lines[0]\n",
    "            \n",
    "        prevPL=lines[1]\n",
    "\n",
    "#Here we store the current profit in a variable for use in the next iteration\n",
    "\n",
    "\n",
    "#Because we have stored our differences in a list, we can now perform max and min operations\n",
    "    \n",
    "    \n",
    "# print(monthsList[avgChangeList.index(greatestIncrease)+1])\n",
    "#     print(greatestIncrease)\n",
    "#     print(greatestDecrease)\n",
    "#     print(f\"Average Change: ${round(sum(avgChangeList)/len(avgChangeList), 2)}\")    \n",
    "#     print(f\"Total Months: {months}\")\n",
    "#     print(f\"Total: ${totalProfit}\")"
   ]
  },
  {
   "cell_type": "code",
   "execution_count": null,
   "metadata": {},
   "outputs": [],
   "source": []
  }
 ],
 "metadata": {
  "kernelspec": {
   "display_name": "Python 3",
   "language": "python",
   "name": "python3"
  },
  "language_info": {
   "codemirror_mode": {
    "name": "ipython",
    "version": 3
   },
   "file_extension": ".py",
   "mimetype": "text/x-python",
   "name": "python",
   "nbconvert_exporter": "python",
   "pygments_lexer": "ipython3",
   "version": "3.8.5"
  }
 },
 "nbformat": 4,
 "nbformat_minor": 4
}
