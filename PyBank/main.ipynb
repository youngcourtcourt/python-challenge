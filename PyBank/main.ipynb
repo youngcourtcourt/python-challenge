{
 "cells": [
  {
   "cell_type": "code",
   "execution_count": 1,
   "metadata": {},
   "outputs": [],
   "source": [
    "import os\n",
    "import csv"
   ]
  },
  {
   "cell_type": "code",
   "execution_count": 335,
   "metadata": {},
   "outputs": [
    {
     "name": "stdout",
     "output_type": "stream",
     "text": [
      "1926159\n",
      "-2196167\n",
      "Average Change: $-2315.12\n",
      "Total Months: 86\n",
      "Total: $38382578\n"
     ]
    }
   ],
   "source": [
    "csvPath=os.path.join('Resources', 'budget_data.csv')\n",
    "\n",
    "#initialize variables\n",
    "months=0\n",
    "totalProfit=0\n",
    "thisMonth=0\n",
    "prevMonth=0\n",
    "difference=0\n",
    "avgChangeList=[]\n",
    "\n",
    "#open csv file\n",
    "\n",
    "with open(csvPath) as csvFile:\n",
    "    csvReader=csv.reader(csvFile, delimiter=',')\n",
    "    csvHeader=next(csvReader, None)\n",
    "\n",
    "#iterate through lines in csv file\n",
    "\n",
    "    for lines in csvReader:\n",
    "\n",
    "#count momnths\n",
    "        months=months+1\n",
    "        totalProfit=int(lines[1])+totalProfit\n",
    "        thisMonth=int(lines[1])\n",
    "#Because we want to subtract one months profits from another, if there is no previous month to subtract \n",
    "#i.e. prevMonth=0, then we skip the math of subracting one month's profits from another\n",
    "        \n",
    "        if prevMonth!=0:\n",
    "            difference=thisMonth-prevMonth\n",
    "            avgChangeList.append(difference)\n",
    "#Here we store the current profit in a variable for use in the next iteration\n",
    "\n",
    "        prevMonth=int(lines[1])\n",
    "    \n",
    "#Because we have stored our differences in a list, we can now perform max and min operations\n",
    "\n",
    "    greatestIncrease=max(avgChangeList)\n",
    "    greatestDecrease=min(avgChangeList)   \n",
    "           \n",
    "    print(greatestIncrease)\n",
    "    print(greatestDecrease)\n",
    "    print(f\"Average Change: ${round(sum(avgChangeList)/len(avgChangeList), 2)}\")    \n",
    "    print(f\"Total Months: {months}\")\n",
    "    print(f\"Total: ${totalProfit}\")"
   ]
  },
  {
   "cell_type": "code",
   "execution_count": null,
   "metadata": {},
   "outputs": [],
   "source": []
  }
 ],
 "metadata": {
  "kernelspec": {
   "display_name": "Python 3",
   "language": "python",
   "name": "python3"
  },
  "language_info": {
   "codemirror_mode": {
    "name": "ipython",
    "version": 3
   },
   "file_extension": ".py",
   "mimetype": "text/x-python",
   "name": "python",
   "nbconvert_exporter": "python",
   "pygments_lexer": "ipython3",
   "version": "3.8.5"
  }
 },
 "nbformat": 4,
 "nbformat_minor": 4
}
