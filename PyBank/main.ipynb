{
 "cells": [
  {
   "cell_type": "code",
   "execution_count": 372,
   "metadata": {},
   "outputs": [],
   "source": [
    "import os\n",
    "import csv"
   ]
  },
  {
   "cell_type": "code",
   "execution_count": 386,
   "metadata": {},
   "outputs": [
    {
     "name": "stdout",
     "output_type": "stream",
     "text": [
      "Financial Analysis\n",
      "------------------------------\n",
      "Total Months: 86\n",
      "Total: $38382578\n",
      "Average Change: $-2315.12\n",
      "Greatest Increase in Profits: Feb-2012 ($1926159)\n",
      "Greatest Decrease in Profits: Sep-2013 ($-2196167)\n"
     ]
    }
   ],
   "source": [
    "csvPath=os.path.join('Resources', 'budget_data.csv')\n",
    "\n",
    "#initialize variables\n",
    "\n",
    "#open csv file\n",
    "\n",
    "with open(csvPath) as csvFile:\n",
    "    csvReader=csv.reader(csvFile, delimiter=',')\n",
    "\n",
    "#store the header row\n",
    "    csvHeader=next(csvReader, None)\n",
    "#store the next line in a variable\n",
    "    lines=next(csvReader)\n",
    "#because we have already started reading the next line, initialize months count to 1\n",
    "    months=1\n",
    "#hold current profit/loss value in variable to add onto later\n",
    "    totalProfit=lines[1]\n",
    "#initialize previous profit/loss to month currently being read for later use in for loop\n",
    "    prevPL=lines[1]\n",
    "#set our differences to 0 to compare current months value against\n",
    "    maxDifference=0\n",
    "    minDifference=0\n",
    "#store month with greatest/least difference in profits\n",
    "    maxMonth=lines[0]\n",
    "    minMonth=lines[0]\n",
    "#calculate total differences \n",
    "    differenceTotal=0\n",
    "    avgChange=0\n",
    "\n",
    "#iterate through lines in csv file\n",
    "\n",
    "    for lines in csvReader:\n",
    "        \n",
    "#count momnths and add profits\n",
    "        months=months+1\n",
    "        totalProfit=int(lines[1])+int(totalProfit)\n",
    "        \n",
    "#calculate difference between current month's profit/losses and previous month's profit/losses while adding differences to difference total        \n",
    "        difference=int(lines[1])-int(prevPL)\n",
    "        differenceTotal=difference+differenceTotal\n",
    "\n",
    "#store greatest difference in variable and month with greatest difference in variable\n",
    "        if difference>maxDifference:\n",
    "            maxDifference=difference\n",
    "            maxMonth=lines[0]\n",
    "#store least difference in variable and month with least difference in variable            \n",
    "        if difference<minDifference:\n",
    "            minDifference=difference\n",
    "            minMonth=lines[0]\n",
    "#initialize our previous profit/loss variable to current month for use in next loop            \n",
    "        prevPL=int(lines[1])\n",
    "\n",
    "avgChange=round(differenceTotal/(months-1), 2)\n",
    "print(\"Financial Analysis\")\n",
    "print(\"-\"*30)\n",
    "print(f\"Total Months: {months}\")\n",
    "print(f\"Total: ${totalProfit}\")\n",
    "print(f\"Average Change: ${avgChange}\")\n",
    "print(f\"Greatest Increase in Profits: {maxMonth} (${greatestIncrease})\")\n",
    "print(f\"Greatest Decrease in Profits: {minMonth} (${greatestDecrease})\")\n",
    "\n",
    "outputFile=\"outputPyBank.csv\"\n",
    "#header=[\"Total Months\", \"Total\", \"Average Change\", \"Greatest Increase in Profits\", \"Greatest Decrease in Profits\"]\n",
    "output=[[[\"Total Months\", months], [\"Total Profit\", totalProfit], [\"Average Change\", avgChange], [\"Greatest Increase in Profits\", maxMonth, greatestIncrease], [\"Greatest Decrease in Profits\", minMonth, greatestDecrease]]\n",
    "#open output file and write rows into it\n",
    "with open (outputFile, \"w\", newline=\"\") as outputFile:\n",
    "    csvWriter=csv.writer(outputFile)\n",
    "#write our headers according to the list of headers we created\n",
    "    #csvWriter.writerow(header)\n",
    "#use our ziplist as the data for the file\n",
    "    csvWriter.writerows(output)"
   ]
  },
  {
   "cell_type": "code",
   "execution_count": null,
   "metadata": {},
   "outputs": [],
   "source": []
  }
 ],
 "metadata": {
  "kernelspec": {
   "display_name": "Python 3",
   "language": "python",
   "name": "python3"
  },
  "language_info": {
   "codemirror_mode": {
    "name": "ipython",
    "version": 3
   },
   "file_extension": ".py",
   "mimetype": "text/x-python",
   "name": "python",
   "nbconvert_exporter": "python",
   "pygments_lexer": "ipython3",
   "version": "3.8.5"
  }
 },
 "nbformat": 4,
 "nbformat_minor": 4
}
