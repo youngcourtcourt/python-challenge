{
 "cells": [
  {
   "cell_type": "code",
   "execution_count": 55,
   "metadata": {},
   "outputs": [],
   "source": [
    "import os\n",
    "import csv"
   ]
  },
  {
   "cell_type": "code",
   "execution_count": 67,
   "metadata": {},
   "outputs": [
    {
     "name": "stdout",
     "output_type": "stream",
     "text": [
      "Election Results\n",
      "Total Votes: 3521001\n",
      "Khan: 63.0% (2218231)\n",
      "Correy: 20.0%, (704200)\n",
      "Li: 14.0% (492940)\n",
      "O'Tooley: 3.0% (105630)\n"
     ]
    }
   ],
   "source": [
    "csvPath=os.path.join(\"Resources\", \"election_data.csv\")\n",
    "\n",
    "count=0\n",
    "Khan=0\n",
    "KhanPercent=0\n",
    "Correy=0\n",
    "CorreyPercent=0\n",
    "Li=0\n",
    "LiPercent=0\n",
    "OTooley=0\n",
    "OTooleyPercent=0\n",
    "candidates=[\"Khan\", \"Correy\", \"Li\", \"OTooley\"]\n",
    "\n",
    "with open(csvPath) as csvFile:\n",
    "    \n",
    "    csvReader=csv.reader(csvFile, delimiter=\",\")\n",
    "    csvHeader=next(csvReader)\n",
    "    for lines in csvReader:\n",
    "        count=count+1\n",
    "        if lines[2]==\"Khan\":\n",
    "            Khan=Khan+1\n",
    "        elif lines[2]==\"Correy\":\n",
    "            Correy=Correy+1\n",
    "        elif lines[2]==\"Li\":\n",
    "            Li=Li+1\n",
    "        elif lines[2]==\"O'Tooley\":\n",
    "            OTooley=OTooley+1\n",
    "    \n",
    "            \n",
    "    KhanPercent=round(100*(Khan/count), 3)\n",
    "    CorreyPercent=round(100*(Correy/count), 3)\n",
    "    LiPercent=round(100*(Li/count), 3)\n",
    "    OTooleyPercent=round(100*(OTooley/count), 3)\n",
    "    \n",
    "votePercents=[KhanPercent, CorreyPercent, LiPercent, OTooleyPercent]\n",
    "totalVotes=[Khan, Correy, Li, OTooley]\n",
    "\n",
    "print(\"Election Results\")\n",
    "print(f\"Total Votes: {count}\")    \n",
    "print(f\"Khan: {KhanPercent}% ({Khan})\")\n",
    "print(f\"Correy: {CorreyPercent}%, ({Correy})\")\n",
    "print(f\"Li: {LiPercent}% ({Li})\")\n",
    "print(f\"O'Tooley: {OTooleyPercent}% ({OTooley})\")\n",
    "outputFile=\"output.csv\"\n",
    "\n",
    "header=[\"Election Results\"]\n",
    "fields=[[\"Total Votes\",count], [\"Khan\",KhanPercent, Khan], [\"Correy\",CorreyPercent, Correy], [\"Li\", LiPercent, Li], [\"O'Tooley\",OTooleyPercent, OTooley]]\n",
    "\n",
    "with open (outputFile, \"w\", newline=\"\") as outputFile:\n",
    "    csvWriter=csv.writer(outputFile)\n",
    "    csvWriter.writerow(header)\n",
    "    csvWriter.writerows(fields)\n",
    "    #csvWriter.writerows(votePercents)"
   ]
  },
  {
   "cell_type": "code",
   "execution_count": null,
   "metadata": {},
   "outputs": [],
   "source": []
  },
  {
   "cell_type": "code",
   "execution_count": null,
   "metadata": {},
   "outputs": [],
   "source": []
  }
 ],
 "metadata": {
  "kernelspec": {
   "display_name": "Python 3",
   "language": "python",
   "name": "python3"
  },
  "language_info": {
   "codemirror_mode": {
    "name": "ipython",
    "version": 3
   },
   "file_extension": ".py",
   "mimetype": "text/x-python",
   "name": "python",
   "nbconvert_exporter": "python",
   "pygments_lexer": "ipython3",
   "version": "3.8.5"
  }
 },
 "nbformat": 4,
 "nbformat_minor": 4
}
