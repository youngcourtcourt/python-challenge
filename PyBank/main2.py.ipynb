{
 "cells": [
  {
   "cell_type": "code",
   "execution_count": 6,
   "metadata": {},
   "outputs": [],
   "source": [
    "import os\n",
    "import csv"
   ]
  },
  {
   "cell_type": "code",
   "execution_count": 7,
   "metadata": {},
   "outputs": [],
   "source": [
    "csvPath=os.path.join(\"Resources\",\"budget_data.csv\")"
   ]
  },
  {
   "cell_type": "code",
   "execution_count": 188,
   "metadata": {},
   "outputs": [
    {
     "name": "stdout",
     "output_type": "stream",
     "text": [
      "[('Feb-2010', 116771), ('Mar-2010', -662642), ('Apr-2010', -391430), ('May-2010', 379920), ('Jun-2010', 212354), ('Jul-2010', 510239), ('Aug-2010', -428211), ('Sep-2010', -821271), ('Oct-2010', 693918), ('Nov-2010', 416278), ('Dec-2010', -974163), ('Jan-2011', 860159), ('Feb-2011', -1115009), ('Mar-2011', 1033048), ('Apr-2011', 95318), ('May-2011', -308093), ('Jun-2011', 99052), ('Jul-2011', -521393), ('Aug-2011', 605450), ('Sep-2011', 231727), ('Oct-2011', -65187), ('Nov-2011', -702716), ('Dec-2011', 177975), ('Jan-2012', -1065544), ('Feb-2012', 1926159), ('Mar-2012', -917805), ('Apr-2012', 898730), ('May-2012', -334262), ('Jun-2012', -246499), ('Jul-2012', -64055), ('Aug-2012', -1529236), ('Sep-2012', 1497596), ('Oct-2012', 304914), ('Nov-2012', -635801), ('Dec-2012', 398319), ('Jan-2013', -183161), ('Feb-2013', -37864), ('Mar-2013', -253689), ('Apr-2013', 403655), ('May-2013', 94168), ('Jun-2013', 306877), ('Jul-2013', -83000), ('Aug-2013', 210462), ('Sep-2013', -2196167), ('Oct-2013', 1465222), ('Nov-2013', -956983), ('Dec-2013', 1838447), ('Jan-2014', -468003), ('Feb-2014', -64602), ('Mar-2014', 206242), ('Apr-2014', -242155), ('May-2014', -449079), ('Jun-2014', 315198), ('Jul-2014', 241099), ('Aug-2014', 111540), ('Sep-2014', 365942), ('Oct-2014', -219310), ('Nov-2014', -368665), ('Dec-2014', 409837), ('Jan-2015', 151210), ('Feb-2015', -110244), ('Mar-2015', -341938), ('Apr-2015', -1212159), ('May-2015', 683246), ('Jun-2015', -70825), ('Jul-2015', 335594), ('Aug-2015', 417334), ('Sep-2015', -272194), ('Oct-2015', -236462), ('Nov-2015', 657432), ('Dec-2015', -211262), ('Jan-2016', -128237), ('Feb-2016', -1750387), ('Mar-2016', 925441), ('Apr-2016', 932089), ('May-2016', -311434), ('Jun-2016', 267252), ('Jul-2016', -1876758), ('Aug-2016', 1733696), ('Sep-2016', 198551), ('Oct-2016', -665765), ('Nov-2016', 693229), ('Dec-2016', -734926), ('Jan-2017', 77242), ('Feb-2017', 532869)]\n"
     ]
    }
   ],
   "source": [
    "with open(csvPath) as csvFile:\n",
    "\n",
    "#After designating a file path, we open the file as a reader object so we can iterate through each line of the csv file\n",
    "   \n",
    "    csvReader=csv.reader(csvFile)\n",
    "    csvHeader=next(csvReader, None)\n",
    "\n",
    "#Here we define then initialize our list names\n",
    "\n",
    "#define variable that will represent next value in list variable=next(csvReader) then a next=int(variable[1])\n",
    "    months=[]\n",
    "    total1=[]\n",
    "    total2=[]\n",
    "    changes=[]\n",
    "    DeltaProfit=[]\n",
    "\n",
    "#Now we iterate through each line in our reader object and append it to a list so we can perform list operations on our data\n",
    "    \n",
    "    for lines in csvReader:\n",
    "        months.append(lines[0])\n",
    "        total1.append(lines)\n",
    "        total2.append(lines)\n",
    "    total2.pop(0)\n",
    "    changes=zip(total1, total2)\n",
    "    Months=len(months)\n",
    "#convert zip object into list    \n",
    "    Changes=(list(changes))\n",
    "    for values in Changes:\n",
    "        #print(f\"{values[1][0]}: {int(values[1][1])-int(values[0][1])}\")\n",
    "        deltaProfit=int(values[1][1])-int(values[0][1])\n",
    "        DeltaProfit.append(deltaProfit)\n",
    "        \n",
    "    months.pop(0)\n",
    "    zipMonths=zip(months, DeltaProfit)\n",
    "    zipListMonths=list(zipMonths)\n",
    "    print(zipListMonths)\n",
    "#     zipDictMonths=dict(zipMonths)\n",
    "#     zipDictValues=zipDictMonths.values()\n",
    "#     maxValue=max(zipDictValues)\n",
    "#     print(ZipDictMonths[\"1926159\"])\n",
    "    #highestProfit=max(zipListMonths)\n",
    "    \n",
    "        #months.pop(0)"
   ]
  },
  {
   "cell_type": "code",
   "execution_count": null,
   "metadata": {},
   "outputs": [],
   "source": [
    "#         DeltaProfit.append(deltaProfit)\n",
    "#         numEntries=len(DeltaProfit)\n",
    "#         avgChange=round((sum(DeltaProfit)/numEntries),2)\n",
    "#     print(avgChange)\n",
    "#     print(max(DeltaProfit))\n",
    "#     print(min(DeltaProfit))\n",
    "#     print(total)\n",
    "#     print(f\"Total Months: {len(months)}\")\n",
    "#     print(f\"Total: ${sum(total1)}\")\n",
    "     #print(f\"Average Change: ${avgChange}\")"
   ]
  },
  {
   "cell_type": "code",
   "execution_count": null,
   "metadata": {},
   "outputs": [],
   "source": []
  }
 ],
 "metadata": {
  "kernelspec": {
   "display_name": "Python 3",
   "language": "python",
   "name": "python3"
  },
  "language_info": {
   "codemirror_mode": {
    "name": "ipython",
    "version": 3
   },
   "file_extension": ".py",
   "mimetype": "text/x-python",
   "name": "python",
   "nbconvert_exporter": "python",
   "pygments_lexer": "ipython3",
   "version": "3.8.5"
  }
 },
 "nbformat": 4,
 "nbformat_minor": 4
}
