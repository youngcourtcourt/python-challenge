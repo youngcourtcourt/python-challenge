{
 "cells": [
  {
   "cell_type": "code",
   "execution_count": null,
   "metadata": {},
   "outputs": [],
   "source": [
    "import os\n",
    "import csv"
   ]
  },
  {
   "cell_type": "code",
   "execution_count": 28,
   "metadata": {},
   "outputs": [
    {
     "name": "stdout",
     "output_type": "stream",
     "text": [
      "Election Results\n",
      "------------------------------\n",
      "Total Votes: 3521001\n",
      "------------------------------\n",
      "Khan: 63.0% (2218231)\n",
      "Correy: 20.0% (704200)\n",
      "Li: 14.0% (492940)\n",
      "O'Tooley: 3.0% (105630)\n",
      "------------------------------\n",
      "Winner: Khan\n",
      "------------------------------\n"
     ]
    }
   ],
   "source": [
    "csvPath=os.path.join(\"Resources\", \"election_data.csv\")\n",
    "\n",
    "voteCount=0\n",
    "candidates=[]\n",
    "votes=[]\n",
    "percents=[]\n",
    "counts0=0\n",
    "counts1=0\n",
    "counts2=0\n",
    "counts3=0\n",
    "\n",
    "\n",
    "\n",
    "with open(csvPath) as csvFile:\n",
    "    \n",
    "    csvReader=csv.reader(csvFile, delimiter=\",\")\n",
    "    csvHeader=next(csvReader)\n",
    "    for lines in csvReader:\n",
    "        voteCount=voteCount+1\n",
    "        if lines[2] not in candidates:\n",
    "            candidates.append(lines[2])\n",
    "        if candidates[0]==lines[2]:\n",
    "            counts0=counts0+1\n",
    "        elif candidates[1]==lines[2]:\n",
    "            counts1=counts1+1\n",
    "        elif candidates[2]==lines[2]:\n",
    "            counts2=counts2+1\n",
    "        elif candidates[3]==lines[2]:\n",
    "            counts3=counts3+1\n",
    "        votes=[counts0, counts1, counts2, counts3]\n",
    "        percents=[round(100*(counts0/count), 3), round(100*(counts1/count), 3), round(100*(counts2/count), 3), round(100*(counts3/count), 3)]\n",
    "        highestCount=max(votes)\n",
    "        winner=candidates[(votes.index(highestCount))]\n",
    "        \n",
    "        \n",
    "print(\"Election Results\")\n",
    "print(\"-\"*30)\n",
    "print(f\"Total Votes: {voteCount}\") \n",
    "print(\"-\"*30)\n",
    "print(f\"{candidates[0]}: {percents[0]}% ({votes[0]})\")\n",
    "print(f\"{candidates[1]}: {percents[1]}% ({votes[1]})\")\n",
    "print(f\"{candidates[2]}: {percents[2]}% ({votes[2]})\")\n",
    "print(f\"{candidates[3]}: {percents[3]}% ({votes[3]})\")\n",
    "print(\"-\"*30)\n",
    "print(f\"Winner: {winner}\")\n",
    "print(\"-\"*30)\n",
    "\n",
    "results=zip(candidates, percents, votes)\n",
    "header=[\"Candidate\", \"Percentage of Vote\", \"Count\"]\n",
    "outputFile=\"output.csv\"\n",
    "\n",
    "with open (outputFile, \"w\", newline=\"\") as outputFile:\n",
    "    csvWriter=csv.writer(outputFile)\n",
    "    csvWriter.writerow(header)\n",
    "    csvWriter.writerows(results)"
   ]
  },
  {
   "cell_type": "code",
   "execution_count": null,
   "metadata": {},
   "outputs": [],
   "source": []
  }
 ],
 "metadata": {
  "kernelspec": {
   "display_name": "Python 3",
   "language": "python",
   "name": "python3"
  },
  "language_info": {
   "codemirror_mode": {
    "name": "ipython",
    "version": 3
   },
   "file_extension": ".py",
   "mimetype": "text/x-python",
   "name": "python",
   "nbconvert_exporter": "python",
   "pygments_lexer": "ipython3",
   "version": "3.8.5"
  }
 },
 "nbformat": 4,
 "nbformat_minor": 4
}
