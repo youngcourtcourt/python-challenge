{
 "cells": [
  {
   "cell_type": "code",
   "execution_count": 2,
   "metadata": {},
   "outputs": [],
   "source": [
    "import os\n",
    "import csv"
   ]
  },
  {
   "cell_type": "code",
   "execution_count": 46,
   "metadata": {},
   "outputs": [
    {
     "name": "stdout",
     "output_type": "stream",
     "text": [
      "Election Results\n",
      "Total Votes: 3521001\n",
      "Khan: 63.0% (2218231)\n",
      "Correy: 20.0%, (704200)\n",
      "Li: 14.0% (492940)\n",
      "O'Tooley: 3.0% (105630)\n"
     ]
    }
   ],
   "source": [
    "csvPath=os.path.join(\"Resources\", \"election_data.csv\")\n",
    "\n",
    "count=0\n",
    "Khan=0\n",
    "KhanPercent=0\n",
    "Correy=0\n",
    "CorreyPercent=0\n",
    "Li=0\n",
    "LiPercent=0\n",
    "OTooley=0\n",
    "OTooleyPercent=0\n",
    "candidates=[\"Khan\", \"Correy\", \"Li\", \"OTooley\"]\n",
    "\n",
    "with open(csvPath) as csvFile:\n",
    "    \n",
    "    csvReader=csv.reader(csvFile, delimiter=\",\")\n",
    "    csvHeader=next(csvReader)\n",
    "    for lines in csvReader:\n",
    "        count=count+1\n",
    "        if lines[2]==\"Khan\":\n",
    "            Khan=Khan+1\n",
    "        elif lines[2]==\"Correy\":\n",
    "            Correy=Correy+1\n",
    "        elif lines[2]==\"Li\":\n",
    "            Li=Li+1\n",
    "        elif lines[2]==\"O'Tooley\":\n",
    "            OTooley=OTooley+1\n",
    "    \n",
    "            \n",
    "    KhanPercent=round(100*(Khan/count), 3)\n",
    "    CorreyPercent=round(100*(Correy/count), 3)\n",
    "    LiPercent=round(100*(Li/count), 3)\n",
    "    OTooleyPercent=round(100*(OTooley/count), 3)\n",
    "    \n",
    "votePercents=[KhanPercent, CorreyPercent, LiPercent, OTooleyPercent]\n",
    "totalVotes=[Khan, Correy, Li, OTooley]\n",
    "\n",
    "print(\"Election Results\")\n",
    "print(f\"Total Votes: {count}\")    \n",
    "print(f\"Khan: {KhanPercent}% ({Khan})\")\n",
    "print(f\"Correy: {CorreyPercent}%, ({Correy})\")\n",
    "print(f\"Li: {LiPercent}% ({Li})\")\n",
    "print(f\"O'Tooley: {OTooleyPercent}% ({OTooley})\")"
   ]
  },
  {
   "cell_type": "code",
   "execution_count": 49,
   "metadata": {},
   "outputs": [
    {
     "ename": "NameError",
     "evalue": "name 'votePercents' is not defined",
     "output_type": "error",
     "traceback": [
      "\u001b[0;31m---------------------------------------------------------------------------\u001b[0m",
      "\u001b[0;31mNameError\u001b[0m                                 Traceback (most recent call last)",
      "\u001b[0;32m<ipython-input-49-bc524ce28255>\u001b[0m in \u001b[0;36m<module>\u001b[0;34m\u001b[0m\n\u001b[1;32m      3\u001b[0m     \u001b[0mcsvWriter\u001b[0m\u001b[0;34m=\u001b[0m\u001b[0mcsv\u001b[0m\u001b[0;34m.\u001b[0m\u001b[0mwriter\u001b[0m\u001b[0;34m(\u001b[0m\u001b[0moutputFile\u001b[0m\u001b[0;34m)\u001b[0m\u001b[0;34m\u001b[0m\u001b[0;34m\u001b[0m\u001b[0m\n\u001b[1;32m      4\u001b[0m     \u001b[0mcsvWriter\u001b[0m\u001b[0;34m.\u001b[0m\u001b[0mwriterow\u001b[0m\u001b[0;34m(\u001b[0m\u001b[0;34m[\u001b[0m\u001b[0;34m\"Election Results\"\u001b[0m\u001b[0;34m,\u001b[0m \u001b[0;34m\"Total Votes\"\u001b[0m\u001b[0;34m,\u001b[0m \u001b[0;34m\"Khan\"\u001b[0m\u001b[0;34m,\u001b[0m \u001b[0;34m\"Correy\"\u001b[0m\u001b[0;34m,\u001b[0m \u001b[0;34m\"Li\"\u001b[0m\u001b[0;34m,\u001b[0m \u001b[0;34m\"O'Tooley\"\u001b[0m\u001b[0;34m,\u001b[0m \u001b[0;34m\"Winner\"\u001b[0m\u001b[0;34m]\u001b[0m\u001b[0;34m)\u001b[0m\u001b[0;34m\u001b[0m\u001b[0;34m\u001b[0m\u001b[0m\n\u001b[0;32m----> 5\u001b[0;31m     \u001b[0mcsvWriter\u001b[0m\u001b[0;34m.\u001b[0m\u001b[0mwriterows\u001b[0m\u001b[0;34m(\u001b[0m\u001b[0mvotePercents\u001b[0m\u001b[0;34m)\u001b[0m\u001b[0;34m\u001b[0m\u001b[0;34m\u001b[0m\u001b[0m\n\u001b[0m",
      "\u001b[0;31mNameError\u001b[0m: name 'votePercents' is not defined"
     ]
    }
   ],
   "source": [
    "outputFile=\"output.csv\"\n",
    "with open (outputFile, \"w\", newline=\"\") as outputFile:\n",
    "    csvWriter=csv.writer(outputFile)\n",
    "    csvWriter.writerow([\"Election Results\", \"Total Votes\", \"Khan\", \"Correy\", \"Li\", \"O'Tooley\", \"Winner\"])\n",
    "    csvWriter.writerows(votePercents)"
   ]
  },
  {
   "cell_type": "code",
   "execution_count": null,
   "metadata": {},
   "outputs": [],
   "source": []
  }
 ],
 "metadata": {
  "kernelspec": {
   "display_name": "Python 3",
   "language": "python",
   "name": "python3"
  },
  "language_info": {
   "codemirror_mode": {
    "name": "ipython",
    "version": 3
   },
   "file_extension": ".py",
   "mimetype": "text/x-python",
   "name": "python",
   "nbconvert_exporter": "python",
   "pygments_lexer": "ipython3",
   "version": "3.8.5"
  }
 },
 "nbformat": 4,
 "nbformat_minor": 4
}
